{
 "cells": [
  {
   "cell_type": "code",
   "execution_count": 1,
   "metadata": {},
   "outputs": [
    {
     "name": "stderr",
     "output_type": "stream",
     "text": [
      "/Users/matthewvitha/anaconda/lib/python3.5/importlib/_bootstrap.py:222: RuntimeWarning: numpy.dtype size changed, may indicate binary incompatibility. Expected 96, got 88\n",
      "  return f(*args, **kwds)\n",
      "/Users/matthewvitha/anaconda/lib/python3.5/importlib/_bootstrap.py:222: RuntimeWarning: numpy.dtype size changed, may indicate binary incompatibility. Expected 96, got 88\n",
      "  return f(*args, **kwds)\n",
      "/Users/matthewvitha/anaconda/lib/python3.5/importlib/_bootstrap.py:222: RuntimeWarning: numpy.dtype size changed, may indicate binary incompatibility. Expected 96, got 88\n",
      "  return f(*args, **kwds)\n",
      "/Users/matthewvitha/anaconda/lib/python3.5/importlib/_bootstrap.py:222: RuntimeWarning: numpy.dtype size changed, may indicate binary incompatibility. Expected 96, got 88\n",
      "  return f(*args, **kwds)\n",
      "/Users/matthewvitha/anaconda/lib/python3.5/importlib/_bootstrap.py:222: RuntimeWarning: numpy.dtype size changed, may indicate binary incompatibility. Expected 96, got 88\n",
      "  return f(*args, **kwds)\n"
     ]
    }
   ],
   "source": [
    "import pandas as pd\n",
    "import numpy as np\n",
    "\n",
    "import sklearn.feature_extraction.text as text\n",
    "from sklearn import decomposition\n",
    "\n",
    "import matplotlib\n",
    "import matplotlib.pyplot as plt\n",
    "import seaborn as sns\n",
    "\n",
    "import pickle\n",
    "\n",
    "import nltk\n",
    "from nltk.tokenize import wordpunct_tokenize\n",
    "import pickle"
   ]
  },
  {
   "cell_type": "code",
   "execution_count": 7,
   "metadata": {},
   "outputs": [
    {
     "name": "stderr",
     "output_type": "stream",
     "text": [
      "/Users/matthewvitha/anaconda/lib/python3.5/site-packages/sklearn/cross_validation.py:41: DeprecationWarning: This module was deprecated in version 0.18 in favor of the model_selection module into which all the refactored classes and functions are moved. Also note that the interface of the new CV iterators are different from that of this module. This module will be removed in 0.20.\n",
      "  \"This module will be removed in 0.20.\", DeprecationWarning)\n",
      "/Users/matthewvitha/anaconda/lib/python3.5/importlib/_bootstrap.py:222: RuntimeWarning: numpy.dtype size changed, may indicate binary incompatibility. Expected 96, got 88\n",
      "  return f(*args, **kwds)\n",
      "/Users/matthewvitha/anaconda/lib/python3.5/site-packages/sklearn/ensemble/weight_boosting.py:29: DeprecationWarning: numpy.core.umath_tests is an internal NumPy module and should not be imported. It will be removed in a future NumPy release.\n",
      "  from numpy.core.umath_tests import inner1d\n"
     ]
    }
   ],
   "source": [
    "import numpy as np\n",
    "import pandas as pd\n",
    "\n",
    "from collections import defaultdict, Counter\n",
    "\n",
    "%matplotlib inline\n",
    "import matplotlib.pyplot as plt\n",
    "import seaborn as sns\n",
    "sns.set()\n",
    "plt.rcParams['figure.figsize'] = (12, 10)\n",
    "\n",
    "import sklearn\n",
    "from sklearn import svm, datasets\n",
    "from sklearn.utils import shuffle\n",
    "from sklearn import cross_validation, metrics\n",
    "from sklearn.tree import DecisionTreeClassifier\n",
    "from sklearn.linear_model import LogisticRegression\n",
    "from sklearn.ensemble import RandomForestClassifier\n",
    "from sklearn.cross_validation import KFold, StratifiedKFold, cross_val_score\n",
    "from sklearn.model_selection import train_test_split,GridSearchCV, cross_val_score\n",
    "from sklearn.metrics import auc, roc_auc_score, roc_curve, precision_recall_curve, fbeta_score, make_scorer, classification_report\n",
    "from sklearn.preprocessing import StandardScaler\n",
    "from sklearn.svm import SVC, LinearSVC\n",
    "import xgboost as xgb\n",
    "import imblearn.over_sampling\n",
    "from scipy import interp\n",
    "\n",
    "random_state = np.random.RandomState(42)"
   ]
  },
  {
   "cell_type": "code",
   "execution_count": 2,
   "metadata": {},
   "outputs": [],
   "source": [
    "pcepi_lag = pickle.load( open('pcepi_lag','rb'))"
   ]
  },
  {
   "cell_type": "code",
   "execution_count": 37,
   "metadata": {},
   "outputs": [
    {
     "name": "stdout",
     "output_type": "stream",
     "text": [
      "(440, 29)\n"
     ]
    }
   ],
   "source": [
    "print(pcepi_lag_sort.shape)\n",
    "pcepi_lag_sort = pcepi_lag.sort_values(by=['date2'])\n"
   ]
  },
  {
   "cell_type": "code",
   "execution_count": 38,
   "metadata": {},
   "outputs": [
    {
     "data": {
      "text/html": [
       "<div>\n",
       "<style scoped>\n",
       "    .dataframe tbody tr th:only-of-type {\n",
       "        vertical-align: middle;\n",
       "    }\n",
       "\n",
       "    .dataframe tbody tr th {\n",
       "        vertical-align: top;\n",
       "    }\n",
       "\n",
       "    .dataframe thead th {\n",
       "        text-align: right;\n",
       "    }\n",
       "</style>\n",
       "<table border=\"1\" class=\"dataframe\">\n",
       "  <thead>\n",
       "    <tr style=\"text-align: right;\">\n",
       "      <th></th>\n",
       "      <th>date2</th>\n",
       "      <th>PCEPI_PCH</th>\n",
       "      <th>FEDFUNDS_PCH</th>\n",
       "      <th>INDPRO_PCH</th>\n",
       "      <th>T10Y2YM_PCH</th>\n",
       "      <th>topic0</th>\n",
       "      <th>topic1</th>\n",
       "      <th>topic2</th>\n",
       "      <th>topic3</th>\n",
       "      <th>topic4</th>\n",
       "      <th>...</th>\n",
       "      <th>topic3_lag</th>\n",
       "      <th>topic4_lag</th>\n",
       "      <th>topic5_lag</th>\n",
       "      <th>topic6_lag</th>\n",
       "      <th>topic7_lag</th>\n",
       "      <th>topic8_lag</th>\n",
       "      <th>topic9_lag</th>\n",
       "      <th>FEDFUNDS_PCH_lag</th>\n",
       "      <th>INDPRO_PCH_lag</th>\n",
       "      <th>T10Y2YM_PCH_lag</th>\n",
       "    </tr>\n",
       "  </thead>\n",
       "  <tbody>\n",
       "    <tr>\n",
       "      <th>0</th>\n",
       "      <td>1982-01</td>\n",
       "      <td>0.6</td>\n",
       "      <td>6.9</td>\n",
       "      <td>-2.0</td>\n",
       "      <td>-95.3</td>\n",
       "      <td>0.011099</td>\n",
       "      <td>0.012358</td>\n",
       "      <td>0.015551</td>\n",
       "      <td>0.005772</td>\n",
       "      <td>0.014494</td>\n",
       "      <td>...</td>\n",
       "      <td>NaN</td>\n",
       "      <td>NaN</td>\n",
       "      <td>NaN</td>\n",
       "      <td>NaN</td>\n",
       "      <td>NaN</td>\n",
       "      <td>NaN</td>\n",
       "      <td>NaN</td>\n",
       "      <td>NaN</td>\n",
       "      <td>NaN</td>\n",
       "      <td>NaN</td>\n",
       "    </tr>\n",
       "    <tr>\n",
       "      <th>1</th>\n",
       "      <td>1982-02</td>\n",
       "      <td>0.3</td>\n",
       "      <td>11.8</td>\n",
       "      <td>2.0</td>\n",
       "      <td>-2050.0</td>\n",
       "      <td>0.006406</td>\n",
       "      <td>0.013169</td>\n",
       "      <td>0.018591</td>\n",
       "      <td>0.008598</td>\n",
       "      <td>0.008852</td>\n",
       "      <td>...</td>\n",
       "      <td>0.005772</td>\n",
       "      <td>0.014494</td>\n",
       "      <td>0.005591</td>\n",
       "      <td>0.013190</td>\n",
       "      <td>0.015621</td>\n",
       "      <td>0.011621</td>\n",
       "      <td>0.009398</td>\n",
       "      <td>6.9</td>\n",
       "      <td>-2.0</td>\n",
       "      <td>-95.3</td>\n",
       "    </tr>\n",
       "    <tr>\n",
       "      <th>2</th>\n",
       "      <td>1982-03</td>\n",
       "      <td>0.3</td>\n",
       "      <td>-0.7</td>\n",
       "      <td>-0.8</td>\n",
       "      <td>-15.4</td>\n",
       "      <td>0.009945</td>\n",
       "      <td>0.012897</td>\n",
       "      <td>0.011588</td>\n",
       "      <td>0.004926</td>\n",
       "      <td>0.007485</td>\n",
       "      <td>...</td>\n",
       "      <td>0.008598</td>\n",
       "      <td>0.008852</td>\n",
       "      <td>0.010766</td>\n",
       "      <td>0.023805</td>\n",
       "      <td>0.013006</td>\n",
       "      <td>0.013584</td>\n",
       "      <td>0.011436</td>\n",
       "      <td>11.8</td>\n",
       "      <td>2.0</td>\n",
       "      <td>-2050.0</td>\n",
       "    </tr>\n",
       "  </tbody>\n",
       "</table>\n",
       "<p>3 rows × 29 columns</p>\n",
       "</div>"
      ],
      "text/plain": [
       "    date2  PCEPI_PCH  FEDFUNDS_PCH  INDPRO_PCH  T10Y2YM_PCH    topic0  \\\n",
       "0 1982-01        0.6           6.9        -2.0        -95.3  0.011099   \n",
       "1 1982-02        0.3          11.8         2.0      -2050.0  0.006406   \n",
       "2 1982-03        0.3          -0.7        -0.8        -15.4  0.009945   \n",
       "\n",
       "     topic1    topic2    topic3    topic4       ...         topic3_lag  \\\n",
       "0  0.012358  0.015551  0.005772  0.014494       ...                NaN   \n",
       "1  0.013169  0.018591  0.008598  0.008852       ...           0.005772   \n",
       "2  0.012897  0.011588  0.004926  0.007485       ...           0.008598   \n",
       "\n",
       "   topic4_lag  topic5_lag  topic6_lag  topic7_lag  topic8_lag  topic9_lag  \\\n",
       "0         NaN         NaN         NaN         NaN         NaN         NaN   \n",
       "1    0.014494    0.005591    0.013190    0.015621    0.011621    0.009398   \n",
       "2    0.008852    0.010766    0.023805    0.013006    0.013584    0.011436   \n",
       "\n",
       "   FEDFUNDS_PCH_lag  INDPRO_PCH_lag  T10Y2YM_PCH_lag  \n",
       "0               NaN             NaN              NaN  \n",
       "1               6.9            -2.0            -95.3  \n",
       "2              11.8             2.0          -2050.0  \n",
       "\n",
       "[3 rows x 29 columns]"
      ]
     },
     "execution_count": 38,
     "metadata": {},
     "output_type": "execute_result"
    }
   ],
   "source": [
    "pcepi_lag_sort.head(3)"
   ]
  },
  {
   "cell_type": "code",
   "execution_count": 23,
   "metadata": {},
   "outputs": [
    {
     "data": {
      "text/plain": [
       "['PCEPI_PCH_lag',\n",
       " 'topic0_lag',\n",
       " 'topic1_lag',\n",
       " 'topic2_lag',\n",
       " 'topic3_lag',\n",
       " 'topic4_lag',\n",
       " 'topic5_lag',\n",
       " 'topic6_lag',\n",
       " 'topic7_lag',\n",
       " 'topic8_lag',\n",
       " 'topic9_lag',\n",
       " 'FEDFUNDS_PCH_lag',\n",
       " 'INDPRO_PCH_lag',\n",
       " 'T10Y2YM_PCH_lag']"
      ]
     },
     "execution_count": 23,
     "metadata": {},
     "output_type": "execute_result"
    }
   ],
   "source": [
    "['PCEPI_PCH_lag','topic0_lag','topic1_lag','topic2_lag','topic3_lag','topic4_lag','topic5_lag','topic6_lag','topic7_lag','topic8_lag','topic9_lag','FEDFUNDS_PCH_lag','INDPRO_PCH_lag','T10Y2YM_PCH_lag']"
   ]
  },
  {
   "cell_type": "code",
   "execution_count": 67,
   "metadata": {},
   "outputs": [
    {
     "data": {
      "text/plain": [
       "['date2',\n",
       " 'PCEPI_PCH_lag',\n",
       " 'topic0_lag',\n",
       " 'topic1_lag',\n",
       " 'topic2_lag',\n",
       " 'topic3_lag',\n",
       " 'topic4_lag',\n",
       " 'topic5_lag',\n",
       " 'topic6_lag',\n",
       " 'topic7_lag',\n",
       " 'topic8_lag',\n",
       " 'topic9_lag',\n",
       " 'FEDFUNDS_PCH_lag',\n",
       " 'INDPRO_PCH_lag',\n",
       " 'T10Y2YM_PCH_lag']"
      ]
     },
     "execution_count": 67,
     "metadata": {},
     "output_type": "execute_result"
    }
   ],
   "source": [
    "['date2','PCEPI_PCH_lag',\n",
    " 'topic0_lag',\n",
    " 'topic1_lag',\n",
    " 'topic2_lag',\n",
    " 'topic3_lag',\n",
    " 'topic4_lag',\n",
    " 'topic5_lag',\n",
    " 'topic6_lag',\n",
    " 'topic7_lag',\n",
    " 'topic8_lag',\n",
    " 'topic9_lag',\n",
    " 'FEDFUNDS_PCH_lag',\n",
    " 'INDPRO_PCH_lag',\n",
    " 'T10Y2YM_PCH_lag']"
   ]
  },
  {
   "cell_type": "code",
   "execution_count": 39,
   "metadata": {},
   "outputs": [],
   "source": [
    "pcepi_lag_sort_train = pcepi_lag_sort[0:220]\n",
    "pcepi_lag_sort_valid = pcepi_lag_sort[221:330]\n",
    "pcepi_lag_sort_holdout = pcepi_lag_sort[331:440]"
   ]
  },
  {
   "cell_type": "code",
   "execution_count": 56,
   "metadata": {},
   "outputs": [
    {
     "data": {
      "text/plain": [
       "(array([[ 3.65983734e-01,  5.38366628e-03, -6.95947507e-03,\n",
       "          5.07596520e-05]]), array([0.15453442]))"
      ]
     },
     "execution_count": 56,
     "metadata": {},
     "output_type": "execute_result"
    }
   ],
   "source": [
    "import numpy as np\n",
    "from sklearn.linear_model import LinearRegression\n",
    "model = LinearRegression()\n",
    "X_train = pcepi_lag_sort_train.dropna()[['PCEPI_PCH_lag','FEDFUNDS_PCH_lag','INDPRO_PCH_lag','T10Y2YM_PCH_lag']]\n",
    "y_train = pcepi_lag_sort_train.dropna()[[\"PCEPI_PCH\"]]\n",
    "model.fit(X_train, y_train)\n",
    "model.coef_, model.intercept_\n"
   ]
  },
  {
   "cell_type": "code",
   "execution_count": 57,
   "metadata": {},
   "outputs": [
    {
     "data": {
      "text/plain": [
       "0.15606056477906327"
      ]
     },
     "execution_count": 57,
     "metadata": {},
     "output_type": "execute_result"
    }
   ],
   "source": [
    "model.score(X_train,y_train)"
   ]
  },
  {
   "cell_type": "code",
   "execution_count": 63,
   "metadata": {},
   "outputs": [
    {
     "name": "stdout",
     "output_type": "stream",
     "text": [
      "(217, 4)\n",
      "(217, 1)\n"
     ]
    }
   ],
   "source": [
    "print(X_train.shape)\n",
    "print(y_train.shape)"
   ]
  },
  {
   "cell_type": "code",
   "execution_count": 58,
   "metadata": {},
   "outputs": [],
   "source": [
    "X_valid = pcepi_lag_sort_valid.dropna()[['PCEPI_PCH_lag','FEDFUNDS_PCH_lag','INDPRO_PCH_lag','T10Y2YM_PCH_lag']]\n",
    "y_valid = pcepi_lag_sort_valid.dropna()[[\"PCEPI_PCH\"]]"
   ]
  },
  {
   "cell_type": "code",
   "execution_count": 59,
   "metadata": {},
   "outputs": [],
   "source": [
    "y_pred1 = model.predict(X_valid)"
   ]
  },
  {
   "cell_type": "code",
   "execution_count": 65,
   "metadata": {},
   "outputs": [
    {
     "data": {
      "text/plain": [
       "(array([[3.50257149e-01, 2.72972268e-03, 3.00064776e-02, 3.73870731e-05]]),\n",
       " array([0.1251951]))"
      ]
     },
     "execution_count": 65,
     "metadata": {},
     "output_type": "execute_result"
    }
   ],
   "source": [
    "import numpy as np\n",
    "from sklearn.linear_model import LinearRegression\n",
    "model = LinearRegression()\n",
    "model.fit(X_valid, y_valid)\n",
    "model.coef_, model.intercept_\n"
   ]
  },
  {
   "cell_type": "code",
   "execution_count": 66,
   "metadata": {},
   "outputs": [
    {
     "data": {
      "text/plain": [
       "0.2113494450120108"
      ]
     },
     "execution_count": 66,
     "metadata": {},
     "output_type": "execute_result"
    }
   ],
   "source": [
    "model.score(X_valid,y_valid)"
   ]
  },
  {
   "cell_type": "markdown",
   "metadata": {},
   "source": []
  },
  {
   "cell_type": "markdown",
   "metadata": {},
   "source": [
    "**Above represents a baseline model for inflation w/o NLP variables**"
   ]
  },
  {
   "cell_type": "code",
   "execution_count": 68,
   "metadata": {},
   "outputs": [
    {
     "data": {
      "text/plain": [
       "(array([[ 2.77150034e-01,  7.00691261e-03,  7.89377800e-04,\n",
       "          8.34299275e-05,  1.34077765e+00,  2.67913633e-01,\n",
       "          1.47371876e+00, -5.93712481e+00, -4.36420711e+00,\n",
       "          1.59065378e+00,  8.18076754e-01, -8.84019794e-01,\n",
       "         -3.50413705e-01,  1.25466116e+00]]), array([0.2260904]))"
      ]
     },
     "execution_count": 68,
     "metadata": {},
     "output_type": "execute_result"
    }
   ],
   "source": [
    "import numpy as np\n",
    "from sklearn.linear_model import LinearRegression\n",
    "model = LinearRegression()\n",
    "X_train = pcepi_lag_sort_train.dropna()[['PCEPI_PCH_lag','FEDFUNDS_PCH_lag','INDPRO_PCH_lag','T10Y2YM_PCH_lag','topic0_lag',\n",
    " 'topic1_lag',\n",
    " 'topic2_lag',\n",
    " 'topic3_lag',\n",
    " 'topic4_lag',\n",
    " 'topic5_lag',\n",
    " 'topic6_lag',\n",
    " 'topic7_lag',\n",
    " 'topic8_lag',\n",
    " 'topic9_lag',]]\n",
    "y_train = pcepi_lag_sort_train.dropna()[[\"PCEPI_PCH\"]]\n",
    "model.fit(X_train, y_train)\n",
    "model.coef_, model.intercept_"
   ]
  },
  {
   "cell_type": "code",
   "execution_count": 69,
   "metadata": {},
   "outputs": [
    {
     "data": {
      "text/plain": [
       "0.2428123290845634"
      ]
     },
     "execution_count": 69,
     "metadata": {},
     "output_type": "execute_result"
    }
   ],
   "source": [
    "model.score(X_train,y_train)"
   ]
  },
  {
   "cell_type": "code",
   "execution_count": 70,
   "metadata": {},
   "outputs": [],
   "source": [
    "X_valid1 = pcepi_lag_sort_valid.dropna()[['PCEPI_PCH_lag','FEDFUNDS_PCH_lag','INDPRO_PCH_lag','T10Y2YM_PCH_lag','topic0_lag',\n",
    " 'topic1_lag',\n",
    " 'topic2_lag',\n",
    " 'topic3_lag',\n",
    " 'topic4_lag',\n",
    " 'topic5_lag',\n",
    " 'topic6_lag',\n",
    " 'topic7_lag',\n",
    " 'topic8_lag',\n",
    " 'topic9_lag']]\n",
    "y_valid1 = pcepi_lag_sort_valid.dropna()[[\"PCEPI_PCH\"]]"
   ]
  },
  {
   "cell_type": "code",
   "execution_count": 71,
   "metadata": {},
   "outputs": [
    {
     "data": {
      "text/plain": [
       "(array([[ 3.40732323e-01,  1.65284807e-03,  1.22763538e-03,\n",
       "          1.03739618e-04, -2.83336139e+00, -3.35667674e+00,\n",
       "         -3.29883951e+00,  3.96454883e-01, -1.17262876e+00,\n",
       "          3.66875544e+00, -4.22061504e+00, -6.70310602e-01,\n",
       "         -7.49054946e+00,  4.80675371e-01]]), array([0.3870246]))"
      ]
     },
     "execution_count": 71,
     "metadata": {},
     "output_type": "execute_result"
    }
   ],
   "source": [
    "import numpy as np\n",
    "from sklearn.linear_model import LinearRegression\n",
    "model = LinearRegression()\n",
    "model.fit(X_valid1, y_valid1)\n",
    "model.coef_, model.intercept_"
   ]
  },
  {
   "cell_type": "code",
   "execution_count": 73,
   "metadata": {},
   "outputs": [
    {
     "data": {
      "text/plain": [
       "0.25183437474946135"
      ]
     },
     "execution_count": 73,
     "metadata": {},
     "output_type": "execute_result"
    }
   ],
   "source": [
    "model.score(X_valid1,y_valid1)"
   ]
  },
  {
   "cell_type": "code",
   "execution_count": null,
   "metadata": {},
   "outputs": [],
   "source": []
  }
 ],
 "metadata": {
  "kernelspec": {
   "display_name": "Python 3",
   "language": "python",
   "name": "python3"
  },
  "language_info": {
   "codemirror_mode": {
    "name": "ipython",
    "version": 3
   },
   "file_extension": ".py",
   "mimetype": "text/x-python",
   "name": "python",
   "nbconvert_exporter": "python",
   "pygments_lexer": "ipython3",
   "version": "3.7.3"
  }
 },
 "nbformat": 4,
 "nbformat_minor": 2
}
